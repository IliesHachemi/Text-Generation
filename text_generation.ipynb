{
 "cells": [
  {
   "cell_type": "code",
   "execution_count": 1,
   "metadata": {},
   "outputs": [
    {
     "name": "stderr",
     "output_type": "stream",
     "text": [
      "Using TensorFlow backend.\n"
     ]
    }
   ],
   "source": [
    "import numpy as np\n",
    "from keras.models import Sequential\n",
    "from keras.layers import Dense\n",
    "from keras.layers import Dropout\n",
    "from keras.layers import LSTM\n",
    "from keras.callbacks import ModelCheckpoint\n",
    "from keras.utils import np_utils\n",
    "import tensorflow as tf\n",
    "import os\n",
    "import sys\n",
    "import pandas as pd\n",
    "import re\n",
    "import random\n",
    "import nltk\n",
    "from nltk.tokenize.treebank import TreebankWordDetokenizer\n",
    "from nltk.corpus import stopwords\n",
    "nltk.download('stopwords')\n",
    "import matplotlib.pyplot as plt"
   ]
  },
  {
   "cell_type": "code",
   "execution_count": 2,
   "metadata": {},
   "outputs": [],
   "source": [
    "book = open('prideandprejudice.txt', 'rb').read().decode(encoding='utf-8')"
   ]
  },
  {
   "cell_type": "code",
   "execution_count": 57,
   "metadata": {},
   "outputs": [],
   "source": [
    "def tokenize(string):\n",
    "    return re.compile('\\w+').findall(string)\n",
    "\n",
    "from collections import Counter\n",
    "\n",
    "def word_freq(string): \n",
    "    text = tokenize(string.lower())\n",
    "    c = Counter(text)           # compte les mots\n",
    "    d = Counter(''.join(text))  # compte les lettres\n",
    "    return (dict(c),dict(d))    \n",
    "\n",
    "words, letters = word_freq(book) # dictionnaires\n",
    "\n",
    "sumWords = sum(words.values())       \n",
    "sumLetters = sum(letters.values())   "
   ]
  },
  {
   "cell_type": "code",
   "execution_count": 58,
   "metadata": {},
   "outputs": [],
   "source": [
    "c = {}\n",
    "for w in words:\n",
    "    c[w] = {w : [words[w]/sumWords]}\n",
    "    c.update(c[w])"
   ]
  },
  {
   "cell_type": "code",
   "execution_count": 59,
   "metadata": {},
   "outputs": [],
   "source": [
    "df_words = pd.DataFrame.from_dict(c,orient='index').rename(columns = {0 : \"proba\"})\n",
    "df_words[\"words\"] = df_words.index\n",
    "df_without_stop_words = df_words[~df_words['words'].isin(stopwords.words('english'))]\n",
    "top_30_words = df_without_stop_words.sort_values(by=['proba'], ascending=False)[:30]"
   ]
  },
  {
   "cell_type": "code",
   "execution_count": 60,
   "metadata": {},
   "outputs": [
    {
     "data": {
      "image/png": "[encoded data removed]",
      "text/plain": [
       "<Figure size 576x576 with 1 Axes>"
      ]
     },
     "metadata": {
      "needs_background": "light"
     },
     "output_type": "display_data"
    }
   ],
   "source": [
    "fig, ax = plt.subplots(figsize=(8, 8))\n",
    "\n",
    "top_30_words.plot.barh(x=\"words\",\n",
    "                      y='proba',\n",
    "                      ax=ax,\n",
    "                      color=\"purple\")\n",
    "\n",
    "ax.set_title(\"Common Words Found in Pride and Prejudice (Including All Words)\")\n",
    "\n",
    "plt.show()"
   ]
  },
  {
   "cell_type": "markdown",
   "metadata": {},
   "source": [
    "Voici les mots qu'on s'attend à retrouver. Ce sont les mots les plus courants dans le texte."
   ]
  },
  {
   "cell_type": "markdown",
   "metadata": {},
   "source": [
    "Liste de tous les caractères uniques présent dans le livre"
   ]
  },
  {
   "cell_type": "code",
   "execution_count": 3,
   "metadata": {},
   "outputs": [],
   "source": [
    "caract = sorted(set(book)) "
   ]
  },
  {
   "cell_type": "markdown",
   "metadata": {},
   "source": [
    "Faisons un mappage de ces 87 caractères uniques, dans les deux sens (caractère -> index et index -> caractères) "
   ]
  },
  {
   "cell_type": "code",
   "execution_count": 75,
   "metadata": {},
   "outputs": [],
   "source": [
    "dico_caract_index = {i:j for j, i in enumerate(caract)}\n",
    "caract_array = np.array(caract)\n",
    "book_remappe = np.array([dico_caract_index[k] for k in book])"
   ]
  },
  {
   "cell_type": "markdown",
   "metadata": {},
   "source": [
    "On utilise 80 caractères pour prédire le 81ème"
   ]
  },
  {
   "cell_type": "code",
   "execution_count": 5,
   "metadata": {},
   "outputs": [],
   "source": [
    "seq_length = 80\n",
    "examples_per_epoch = len(book)//(seq_length+1)\n",
    "\n",
    "char_dataset = tf.data.Dataset.from_tensor_slices(book_remappe)"
   ]
  },
  {
   "cell_type": "code",
   "execution_count": 6,
   "metadata": {},
   "outputs": [],
   "source": [
    "sequences = char_dataset.batch(seq_length+1, drop_remainder=True)"
   ]
  },
  {
   "cell_type": "code",
   "execution_count": 7,
   "metadata": {},
   "outputs": [],
   "source": [
    "def split_input_target(chunk):\n",
    "    input_text = chunk[:-1]\n",
    "    target_text = chunk[1:]\n",
    "    return input_text, target_text\n",
    "\n",
    "dataset = sequences.map(split_input_target)"
   ]
  },
  {
   "cell_type": "markdown",
   "metadata": {},
   "source": [
    "# Entrainons le modèle - Création de données d'entrainements"
   ]
  },
  {
   "cell_type": "code",
   "execution_count": 8,
   "metadata": {},
   "outputs": [],
   "source": [
    "BATCH_SIZE = 64\n",
    "BUFFER_SIZE = 10000\n",
    "dataset = dataset.shuffle(BUFFER_SIZE).batch(BATCH_SIZE, drop_remainder=True)\n",
    "vocab_size = len(caract)\n",
    "embedding_dim = 256\n",
    "rnn_units = 1024\n",
    "rnn_units_over_2  = 512\n",
    "EPOCHS = 30"
   ]
  },
  {
   "cell_type": "code",
   "execution_count": 9,
   "metadata": {},
   "outputs": [],
   "source": [
    "def build_model(vocab_size, embedding_dim, rnn_units,rnn_units_over_2, batch_size):\n",
    "    model = tf.keras.Sequential([\n",
    "        tf.keras.layers.Embedding(vocab_size, embedding_dim,\n",
    "                                  batch_input_shape=[batch_size, None]),\n",
    "        tf.keras.layers.GRU(rnn_units,\n",
    "                            return_sequences=True,\n",
    "                            stateful=True,\n",
    "                            recurrent_initializer='glorot_uniform'),\n",
    "        tf.keras.layers.GRU(rnn_units_over_2,\n",
    "                            return_sequences=True,\n",
    "                            stateful=True,\n",
    "                            recurrent_initializer='glorot_uniform'),\n",
    "        tf.keras.layers.Dense(vocab_size)\n",
    "    ])\n",
    "    return model\n",
    "\n",
    "def loss_function(labels, logits):\n",
    "    return tf.keras.losses.sparse_categorical_crossentropy(labels, logits, from_logits=True)"
   ]
  },
  {
   "cell_type": "code",
   "execution_count": 10,
   "metadata": {},
   "outputs": [],
   "source": [
    "model = build_model(\n",
    "    vocab_size=len(caract),\n",
    "    embedding_dim=embedding_dim,\n",
    "    rnn_units=rnn_units,\n",
    "    rnn_units_over_2 = 512,\n",
    "    batch_size=BATCH_SIZE)\n",
    "model.compile(optimizer='adam', loss=loss_function)"
   ]
  },
  {
   "cell_type": "markdown",
   "metadata": {},
   "source": [
    "On stocke les poids, afin de s'en resservir plus tard pour prédire du texte"
   ]
  },
  {
   "cell_type": "code",
   "execution_count": 40,
   "metadata": {},
   "outputs": [],
   "source": [
    "checkpoint_dir = './checkpoint'\n",
    "checkpoint_prefix = os.path.join(checkpoint_dir, \"save_model_{epoch}\")\n",
    "\n",
    "checkpoint_callback = tf.keras.callbacks.ModelCheckpoint(\n",
    "    filepath=checkpoint_prefix,\n",
    "    save_weights_only=True)"
   ]
  },
  {
   "cell_type": "code",
   "execution_count": 12,
   "metadata": {},
   "outputs": [
    {
     "name": "stdout",
     "output_type": "stream",
     "text": [
      "Epoch 1/30\n",
      "139/139 [==============================] - 442s 3s/step - loss: 2.5209\n",
      "Epoch 2/30\n",
      "139/139 [==============================] - 456s 3s/step - loss: 1.6754\n",
      "Epoch 3/30\n",
      "139/139 [==============================] - 465s 3s/step - loss: 1.3745\n",
      "Epoch 4/30\n",
      "139/139 [==============================] - 426s 3s/step - loss: 1.2500\n",
      "Epoch 5/30\n",
      "139/139 [==============================] - 472s 3s/step - loss: 1.1795\n",
      "Epoch 6/30\n",
      "139/139 [==============================] - 467s 3s/step - loss: 1.1278\n",
      "Epoch 7/30\n",
      "139/139 [==============================] - 938s 7s/step - loss: 1.0835\n",
      "Epoch 8/30\n",
      "139/139 [==============================] - 446s 3s/step - loss: 1.0409\n",
      "Epoch 9/30\n",
      "139/139 [==============================] - 404s 3s/step - loss: 1.0010\n",
      "Epoch 10/30\n",
      "139/139 [==============================] - 400s 3s/step - loss: 0.9612\n",
      "Epoch 11/30\n",
      "139/139 [==============================] - 400s 3s/step - loss: 0.9199\n",
      "Epoch 12/30\n",
      "139/139 [==============================] - 400s 3s/step - loss: 0.8778\n",
      "Epoch 13/30\n",
      "139/139 [==============================] - 499s 4s/step - loss: 0.8368\n",
      "Epoch 14/30\n",
      "139/139 [==============================] - 485s 3s/step - loss: 0.7937\n",
      "Epoch 15/30\n",
      "139/139 [==============================] - 468s 3s/step - loss: 0.7548\n",
      "Epoch 16/30\n",
      "139/139 [==============================] - 430s 3s/step - loss: 0.7197\n",
      "Epoch 17/30\n",
      "139/139 [==============================] - 441s 3s/step - loss: 0.6830\n",
      "Epoch 18/30\n",
      "139/139 [==============================] - 443s 3s/step - loss: 0.6517\n",
      "Epoch 19/30\n",
      "139/139 [==============================] - 444s 3s/step - loss: 0.6223\n",
      "Epoch 20/30\n",
      "139/139 [==============================] - 403s 3s/step - loss: 0.5967\n",
      "Epoch 21/30\n",
      "139/139 [==============================] - 403s 3s/step - loss: 0.5733\n",
      "Epoch 22/30\n",
      "139/139 [==============================] - 400s 3s/step - loss: 0.5526\n",
      "Epoch 23/30\n",
      "139/139 [==============================] - 398s 3s/step - loss: 0.5361\n",
      "Epoch 24/30\n",
      "139/139 [==============================] - 398s 3s/step - loss: 0.5190\n",
      "Epoch 25/30\n",
      "139/139 [==============================] - 409s 3s/step - loss: 0.5031\n",
      "Epoch 26/30\n",
      "139/139 [==============================] - 478s 3s/step - loss: 0.4913\n",
      "Epoch 27/30\n",
      "139/139 [==============================] - 448s 3s/step - loss: 0.4776\n",
      "Epoch 28/30\n",
      "139/139 [==============================] - 443s 3s/step - loss: 0.4698\n",
      "Epoch 29/30\n",
      "139/139 [==============================] - 439s 3s/step - loss: 0.4613\n",
      "Epoch 30/30\n",
      "139/139 [==============================] - 439s 3s/step - loss: 0.4543\n"
     ]
    }
   ],
   "source": [
    "history = model.fit(dataset, epochs=EPOCHS, callbacks=[checkpoint_callback])"
   ]
  },
  {
   "cell_type": "markdown",
   "metadata": {},
   "source": [
    "Nous pouvons désormais utiliser le modèle afin de prédire du texte"
   ]
  },
  {
   "cell_type": "code",
   "execution_count": 42,
   "metadata": {},
   "outputs": [],
   "source": [
    "model = build_model(vocab_size, embedding_dim, rnn_units, rnn_units_over_2, batch_size=1)\n",
    "model.load_weights(tf.train.latest_checkpoint(\"checkpoint\"))\n",
    "model.build(tf.TensorShape([1, None]))"
   ]
  },
  {
   "cell_type": "code",
   "execution_count": 76,
   "metadata": {},
   "outputs": [],
   "source": [
    "def generate_text(model, start_string):\n",
    "\n",
    "    num_generate = 300\n",
    "    input_eval = [dico_caract_index[s] for s in start_string]\n",
    "    input_eval = tf.expand_dims(input_eval, 0)\n",
    "\n",
    "    text_generated = []\n",
    "\n",
    "\n",
    "    temperature = 0.1\n",
    "\n",
    "    model.reset_states()\n",
    "    for i in range(num_generate):\n",
    "        predictions = model(input_eval)\n",
    "        predictions = tf.squeeze(predictions, 0)\n",
    "\n",
    "        predictions = predictions / temperature\n",
    "        predicted_id = tf.random.categorical(predictions, num_samples=1)[-1,0].numpy()\n",
    "\n",
    "        input_eval = tf.expand_dims([predicted_id], 0)\n",
    "        text_generated.append(caract_array[predicted_id])\n",
    "\n",
    "    return (start_string + ''.join(text_generated))"
   ]
  },
  {
   "cell_type": "code",
   "execution_count": 39,
   "metadata": {},
   "outputs": [
    {
     "name": "stdout",
     "output_type": "stream",
     "text": [
      "Arcy was not so\n",
      "palatable to your mother and sisters, though she foresaw little pleasure in the country. It\n",
      "was spoken of again while they were at the door of Lydia's prospects of Mr.\n",
      "     Wickham, when last at Netherfield for the truth, I was too like him, I should think it\n",
      "occasional glance at home. Her heart will have to conceal it, from that very wish\n",
      "which Elizabeth had received at the same time haughters have\n",
      "been always at Longbourn.\"\n",
      "\n",
      "A long dispute followed the less of her own ro\n"
     ]
    }
   ],
   "source": [
    "print(generate_text(model, start_string=u\"A\"))"
   ]
  },
  {
   "cell_type": "markdown",
   "metadata": {},
   "source": [
    "Calcul de la probabilité d'occurence d'un mot dans le livre"
   ]
  }
 ],
 "metadata": {
  "kernelspec": {
   "display_name": "Python 3",
   "language": "python",
   "name": "python3"
  },
  "language_info": {
   "codemirror_mode": {
    "name": "ipython",
    "version": 3
   },
   "file_extension": ".py",
   "mimetype": "text/x-python",
   "name": "python",
   "nbconvert_exporter": "python",
   "pygments_lexer": "ipython3",
   "version": "3.7.3"
  }
 },
 "nbformat": 4,
 "nbformat_minor": 4
}
